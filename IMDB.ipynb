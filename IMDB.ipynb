{
 "cells": [
  {
   "cell_type": "code",
   "execution_count": 44,
   "metadata": {},
   "outputs": [],
   "source": [
    "import keras"
   ]
  },
  {
   "cell_type": "code",
   "execution_count": 45,
   "metadata": {},
   "outputs": [],
   "source": [
    "from keras.datasets import imdb\n",
    "\n",
    "(train_data, train_labels), (test_data, test_labels) = imdb.load_data(num_words=10000)"
   ]
  },
  {
   "cell_type": "code",
   "execution_count": 46,
   "metadata": {},
   "outputs": [],
   "source": [
    "import numpy as np\n",
    "\n",
    "def vectorize_sequences(sequences, dimension = 10000):\n",
    "    results = np.zeros((len(sequences), dimension))\n",
    "    for i, sequence in enumerate(sequences):\n",
    "        results[i, sequence] = 1\n",
    "        return results\n",
    "    \n",
    "x_train = vectorize_sequences(train_data)\n",
    "x_test = vectorize_sequences(test_data)"
   ]
  },
  {
   "cell_type": "code",
   "execution_count": 47,
   "metadata": {},
   "outputs": [],
   "source": [
    "y_train = np.asarray(train_labels).astype('float32')\n",
    "y_test = np.asarray(test_labels).astype('float32')"
   ]
  },
  {
   "cell_type": "code",
   "execution_count": 48,
   "metadata": {},
   "outputs": [],
   "source": [
    "from keras import models\n",
    "from keras import layers\n",
    "\n",
    "model = models.Sequential()\n",
    "model.add(layers.Dense(16, activation='relu', input_shape=(10000, )))\n",
    "model.add(layers.Dense(16, activation='relu'))\n",
    "model.add(layers.Dense(1, activation='sigmoid'))"
   ]
  },
  {
   "cell_type": "code",
   "execution_count": 49,
   "metadata": {},
   "outputs": [],
   "source": [
    "model.compile(optimizer='rmsprop',\n",
    "             loss='mse',\n",
    "             metrics=['accuracy'])"
   ]
  },
  {
   "cell_type": "code",
   "execution_count": 50,
   "metadata": {},
   "outputs": [],
   "source": [
    "from keras import optimizers\n",
    "\n",
    "model.compile(optimizer=optimizers.RMSprop(lr=0.001),\n",
    "             loss='mse',\n",
    "             metrics=['accuracy'])"
   ]
  },
  {
   "cell_type": "code",
   "execution_count": 51,
   "metadata": {},
   "outputs": [],
   "source": [
    "from keras import losses\n",
    "from keras import metrics\n",
    "model.compile(optimizer=optimizers.RMSprop(lr=0.001),\n",
    "              loss=losses.mse,\n",
    "              metrics=[metrics.mse])"
   ]
  },
  {
   "cell_type": "code",
   "execution_count": 52,
   "metadata": {},
   "outputs": [],
   "source": [
    "x_val = x_train[:10000]\n",
    "partial_x_train = x_train[10000:]\n",
    "\n",
    "y_val = y_train[:10000]\n",
    "partial_y_train = y_train[10000:]"
   ]
  },
  {
   "cell_type": "code",
   "execution_count": 53,
   "metadata": {},
   "outputs": [
    {
     "name": "stdout",
     "output_type": "stream",
     "text": [
      "Train on 15000 samples, validate on 10000 samples\n",
      "Epoch 1/20\n",
      "15000/15000 [==============================] - 4s 246us/step - loss: 0.2500 - acc: 0.5035 - val_loss: 0.2500 - val_acc: 0.4947\n",
      "Epoch 2/20\n",
      "15000/15000 [==============================] - 3s 172us/step - loss: 0.2500 - acc: 0.5035 - val_loss: 0.2500 - val_acc: 0.4947\n",
      "Epoch 3/20\n",
      "15000/15000 [==============================] - 3s 175us/step - loss: 0.2500 - acc: 0.5035 - val_loss: 0.2500 - val_acc: 0.4947\n",
      "Epoch 4/20\n",
      "15000/15000 [==============================] - 3s 178us/step - loss: 0.2500 - acc: 0.5035 - val_loss: 0.2500 - val_acc: 0.4947\n",
      "Epoch 5/20\n",
      "15000/15000 [==============================] - 3s 173us/step - loss: 0.2500 - acc: 0.5035 - val_loss: 0.2500 - val_acc: 0.4947\n",
      "Epoch 6/20\n",
      "15000/15000 [==============================] - 3s 172us/step - loss: 0.2500 - acc: 0.5035 - val_loss: 0.2500 - val_acc: 0.4947\n",
      "Epoch 7/20\n",
      "15000/15000 [==============================] - 3s 173us/step - loss: 0.2500 - acc: 0.5035 - val_loss: 0.2500 - val_acc: 0.4947\n",
      "Epoch 8/20\n",
      "15000/15000 [==============================] - 3s 179us/step - loss: 0.2500 - acc: 0.5035 - val_loss: 0.2501 - val_acc: 0.4947\n",
      "Epoch 9/20\n",
      "15000/15000 [==============================] - 3s 172us/step - loss: 0.2500 - acc: 0.5035 - val_loss: 0.2500 - val_acc: 0.4947\n",
      "Epoch 10/20\n",
      "15000/15000 [==============================] - 3s 173us/step - loss: 0.2500 - acc: 0.5035 - val_loss: 0.2501 - val_acc: 0.4947\n",
      "Epoch 11/20\n",
      "15000/15000 [==============================] - 3s 177us/step - loss: 0.2500 - acc: 0.5035 - val_loss: 0.2500 - val_acc: 0.4947\n",
      "Epoch 12/20\n",
      "15000/15000 [==============================] - 3s 174us/step - loss: 0.2500 - acc: 0.5035 - val_loss: 0.2501 - val_acc: 0.4947\n",
      "Epoch 13/20\n",
      "15000/15000 [==============================] - 3s 172us/step - loss: 0.2500 - acc: 0.5035 - val_loss: 0.2501 - val_acc: 0.4947\n",
      "Epoch 14/20\n",
      "15000/15000 [==============================] - 3s 172us/step - loss: 0.2500 - acc: 0.5035 - val_loss: 0.2501 - val_acc: 0.4947\n",
      "Epoch 15/20\n",
      "15000/15000 [==============================] - 3s 174us/step - loss: 0.2500 - acc: 0.5035 - val_loss: 0.2501 - val_acc: 0.4947\n",
      "Epoch 16/20\n",
      "15000/15000 [==============================] - 3s 179us/step - loss: 0.2500 - acc: 0.5035 - val_loss: 0.2501 - val_acc: 0.4947\n",
      "Epoch 17/20\n",
      "15000/15000 [==============================] - 3s 172us/step - loss: 0.2500 - acc: 0.5035 - val_loss: 0.2500 - val_acc: 0.4947\n",
      "Epoch 18/20\n",
      "15000/15000 [==============================] - 3s 172us/step - loss: 0.2500 - acc: 0.5035 - val_loss: 0.2501 - val_acc: 0.4947\n",
      "Epoch 19/20\n",
      "15000/15000 [==============================] - 3s 178us/step - loss: 0.2500 - acc: 0.5035 - val_loss: 0.2501 - val_acc: 0.4947\n",
      "Epoch 20/20\n",
      "15000/15000 [==============================] - 3s 176us/step - loss: 0.2500 - acc: 0.5035 - val_loss: 0.2500 - val_acc: 0.4947\n"
     ]
    }
   ],
   "source": [
    "model.compile(optimizer='rmsprop',\n",
    "              loss='mse',\n",
    "              metrics=['acc'])\n",
    "\n",
    "history = model.fit(partial_x_train,\n",
    "                    partial_y_train,\n",
    "                    epochs=20,\n",
    "                    batch_size=512,\n",
    "                    validation_data=(x_val, y_val))"
   ]
  },
  {
   "cell_type": "code",
   "execution_count": 54,
   "metadata": {},
   "outputs": [
    {
     "data": {
      "image/png": "[encoded data removed]",
      "text/plain": [
       "<Figure size 432x288 with 1 Axes>"
      ]
     },
     "metadata": {},
     "output_type": "display_data"
    }
   ],
   "source": [
    "import matplotlib.pyplot as plt\n",
    "\n",
    "history_dict = history.history\n",
    "loss_values = history_dict['loss']\n",
    "val_loss_values = history_dict['val_loss']\n",
    "\n",
    "epochs = range(1, len(loss_values)+1)\n",
    "\n",
    "plt.plot(epochs, loss_values, 'bo', label= 'Training loss')\n",
    "plt.plot(epochs, val_loss_values, 'b', label= 'Validation loss')\n",
    "plt.title('Training and validation loss')\n",
    "plt.xlabel('Epochs')\n",
    "plt.ylabel('Loss')\n",
    "plt.legend()\n",
    "\n",
    "plt.show()"
   ]
  },
  {
   "cell_type": "code",
   "execution_count": 55,
   "metadata": {},
   "outputs": [
    {
     "data": {
      "image/png": "[encoded data removed]",
      "text/plain": [
       "<Figure size 432x288 with 1 Axes>"
      ]
     },
     "metadata": {},
     "output_type": "display_data"
    }
   ],
   "source": [
    "plt.clf()\n",
    "acc = history_dict['acc']\n",
    "val_acc = history_dict['val_acc']\n",
    "\n",
    "plt.plot(epochs, acc, 'bo', label='Training acc')\n",
    "plt.plot(epochs, val_acc, 'b', label='Validation acc')\n",
    "plt.title('Training and validation accuracy')\n",
    "plt.xlabel('Epochs')\n",
    "plt.ylabel('Accuracy')\n",
    "plt.legend()\n",
    "\n",
    "plt.show()"
   ]
  },
  {
   "cell_type": "code",
   "execution_count": 56,
   "metadata": {},
   "outputs": [
    {
     "name": "stdout",
     "output_type": "stream",
     "text": [
      "Epoch 1/4\n",
      "25000/25000 [==============================] - 3s 120us/step - loss: 0.6932 - accuracy: 0.4976\n",
      "Epoch 2/4\n",
      "25000/25000 [==============================] - 3s 113us/step - loss: 0.6932 - accuracy: 0.5000\n",
      "Epoch 3/4\n",
      "25000/25000 [==============================] - 3s 117us/step - loss: 0.6932 - accuracy: 0.4990\n",
      "Epoch 4/4\n",
      "25000/25000 [==============================] - 3s 114us/step - loss: 0.6932 - accuracy: 0.4992\n",
      "25000/25000 [==============================] - 4s 156us/step\n"
     ]
    }
   ],
   "source": [
    "model=models.Sequential()\n",
    "model.add(layers.Dense(16, activation='relu', input_shape=(10000, )))\n",
    "model.add(layers.Dense(16, activation='relu'))\n",
    "model.add(layers.Dense(1 ,activation='sigmoid'))\n",
    "\n",
    "model.compile(optimizer='rmsprop',\n",
    "              loss='binary_crossentropy',\n",
    "              metrics=['accuracy'])\n",
    "\n",
    "model.fit(x_train, y_train, epochs=4, batch_size=512)\n",
    "results = model.evaluate(x_test, y_test)"
   ]
  },
  {
   "cell_type": "code",
   "execution_count": 57,
   "metadata": {},
   "outputs": [
    {
     "data": {
      "text/plain": [
       "[0.6931520657348633, 0.5]"
      ]
     },
     "execution_count": 57,
     "metadata": {},
     "output_type": "execute_result"
    }
   ],
   "source": [
    "results"
   ]
  },
  {
   "cell_type": "code",
   "execution_count": null,
   "metadata": {},
   "outputs": [],
   "source": []
  }
 ],
 "metadata": {
  "kernelspec": {
   "display_name": "Python 3",
   "language": "python",
   "name": "python3"
  },
  "language_info": {
   "codemirror_mode": {
    "name": "ipython",
    "version": 3
   },
   "file_extension": ".py",
   "mimetype": "text/x-python",
   "name": "python",
   "nbconvert_exporter": "python",
   "pygments_lexer": "ipython3",
   "version": "3.6.4"
  }
 },
 "nbformat": 4,
 "nbformat_minor": 2
}
